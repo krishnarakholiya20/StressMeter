{
 "cells": [
  {
   "cell_type": "code",
   "execution_count": 8,
   "id": "20f19406-6037-41b6-8b74-7214ee337526",
   "metadata": {},
   "outputs": [
    {
     "name": "stdout",
     "output_type": "stream",
     "text": [
      "C:\\Users\\KRISHNA RAKHOLIYA\\ StressMeter2_0\n",
      "\n",
      "🧠SYSTEM STRESS CHECK:\n",
      "\n",
      "🖥️  CPU Usage: 2.3%\n",
      "💾 Memory Usage: 83.1%\n",
      "🗃️  Disk Usage: 93.9%\n",
      "🔋 Battery: 88% Charging\n",
      "🌐 Network - Sent: 16.48 MB, Received: 24.03 MB\n",
      "🧮 Processes Running: 239\n",
      "🕒 System Boot Time: 2025-04-02 14:36:54\n"
     ]
    }
   ],
   "source": [
    "import psutil\n",
    "import platform\n",
    "import os\n",
    "import shutil\n",
    "import datetime\n",
    "\n",
    "print(os.getcwd())\n",
    "\n",
    "def get_cpu_usage():\n",
    "    return f\"CPU Usage: {psutil.cpu_percent()}%\"\n",
    "\n",
    "def get_memory_usage():\n",
    "    mem = psutil.virtual_memory()\n",
    "    return f\"Memory Usage: {mem.percent}%\"\n",
    "\n",
    "def get_disk_usage():\n",
    "    disk = psutil.disk_usage('/')\n",
    "    return f\"Disk Usage: {disk.percent}%\"\n",
    "\n",
    "def get_battery_status():\n",
    "    battery = psutil.sensors_battery()\n",
    "    if battery:\n",
    "        return f\"Battery: {battery.percent}% {'Charging' if battery.power_plugged else 'Not Charging'}\"\n",
    "    return \"Battery: No battery info available\"\n",
    "\n",
    "def get_network_usage():\n",
    "    net = psutil.net_io_counters()\n",
    "    return f\"Network - Sent: {net.bytes_sent / (1024**2):.2f} MB, Received: {net.bytes_recv / (1024**2):.2f} MB\"\n",
    "\n",
    "def get_process_count():\n",
    "    return f\"Processes Running: {len(psutil.pids())}\"\n",
    "\n",
    "def get_boot_time():\n",
    "    boot_time = datetime.datetime.fromtimestamp(psutil.boot_time())\n",
    "    return f\"System Boot Time: {boot_time.strftime('%Y-%m-%d %H:%M:%S')}\"\n",
    "\n",
    "print(\"\\n🧠SYSTEM STRESS CHECK:\\n\")\n",
    "print(\"🖥️  \" + get_cpu_usage())\n",
    "print(\"💾 \" + get_memory_usage())\n",
    "print(\"🗃️  \" + get_disk_usage())\n",
    "print(\"🔋 \" + get_battery_status())\n",
    "print(\"🌐 \" + get_network_usage())\n",
    "print(\"🧮 \" + get_process_count())\n",
    "print(\"🕒 \" + get_boot_time())\n"
   ]
  },
  {
   "cell_type": "code",
   "execution_count": null,
   "id": "495e46a7-61cf-4603-a7bb-b4233a111432",
   "metadata": {},
   "outputs": [],
   "source": []
  },
  {
   "cell_type": "code",
   "execution_count": null,
   "id": "4a957c67-8ad9-452a-a215-fd991ac76e74",
   "metadata": {},
   "outputs": [],
   "source": []
  },
  {
   "cell_type": "code",
   "execution_count": null,
   "id": "25339c56-61c1-414e-ad82-bb3c3933123b",
   "metadata": {},
   "outputs": [],
   "source": []
  }
 ],
 "metadata": {
  "kernelspec": {
   "display_name": "Python 3 (ipykernel)",
   "language": "python",
   "name": "python3"
  },
  "language_info": {
   "codemirror_mode": {
    "name": "ipython",
    "version": 3
   },
   "file_extension": ".py",
   "mimetype": "text/x-python",
   "name": "python",
   "nbconvert_exporter": "python",
   "pygments_lexer": "ipython3",
   "version": "3.13.1"
  }
 },
 "nbformat": 4,
 "nbformat_minor": 5
}
